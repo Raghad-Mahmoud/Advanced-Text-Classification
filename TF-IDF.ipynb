{
 "cells": [
  {
   "cell_type": "code",
   "execution_count": 1,
   "metadata": {},
   "outputs": [],
   "source": [
    "import json\n",
    "import string\n",
    "import nltk\n",
    "import os\n",
    "from nltk.tokenize import word_tokenize\n",
    "from nltk.corpus import stopwords\n",
    "from nltk.stem import PorterStemmer\n",
    "from sklearn.feature_extraction.text import TfidfVectorizer\n",
    "from sklearn.naive_bayes import MultinomialNB\n",
    "from sklearn.metrics import accuracy_score\n",
    "from sklearn.metrics import f1_score\n",
    "from sklearn.linear_model import LogisticRegression\n",
    "from sklearn.svm import SVC\n",
    "import matplotlib.pyplot as plt\n",
    "from sklearn.preprocessing import LabelEncoder"
   ]
  },
  {
   "cell_type": "code",
   "execution_count": 2,
   "metadata": {},
   "outputs": [],
   "source": [
    "folder_path = r\"C:\\Users\\hp\\OneDrive\\Desktop\\NLP_3\\data\"\n",
    "\n",
    "# Construct the file paths\n",
    "train_file_path = os.path.join(folder_path, \"train_data.json\")\n",
    "test_file_path = os.path.join(folder_path, \"test_data.json\")\n",
    "\n",
    "# Read the training data\n",
    "with open(train_file_path, 'r', encoding='utf-8') as train_file:\n",
    "    train_data = json.load(train_file)\n",
    "\n",
    "# Read the test data\n",
    "with open(test_file_path, 'r', encoding='utf-8') as test_file:\n",
    "    test_data = json.load(test_file)"
   ]
  },
  {
   "cell_type": "code",
   "execution_count": 3,
   "metadata": {},
   "outputs": [
    {
     "name": "stderr",
     "output_type": "stream",
     "text": [
      "[nltk_data] Downloading package punkt to\n",
      "[nltk_data]     C:\\Users\\hp\\AppData\\Roaming\\nltk_data...\n",
      "[nltk_data]   Package punkt is already up-to-date!\n",
      "[nltk_data] Downloading package stopwords to\n",
      "[nltk_data]     C:\\Users\\hp\\AppData\\Roaming\\nltk_data...\n",
      "[nltk_data]   Package stopwords is already up-to-date!\n"
     ]
    }
   ],
   "source": [
    "# Download NLTK resources\n",
    "nltk.download('punkt')\n",
    "nltk.download('stopwords')\n",
    "\n",
    "# Initialize Porter's Stemmer and stopwords\n",
    "porter = PorterStemmer()\n",
    "stop_words = set(stopwords.words('english'))"
   ]
  },
  {
   "cell_type": "code",
   "execution_count": 4,
   "metadata": {},
   "outputs": [],
   "source": [
    "def extract_documents_and_labels(data):\n",
    "    documents = []\n",
    "    labels = []\n",
    "    for label, docs in data.items():\n",
    "        for doc in docs:\n",
    "            documents.append(doc)\n",
    "            labels.append(label)\n",
    "\n",
    "    # Initialize LabelEncoder\n",
    "    label_encoder = LabelEncoder()\n",
    "\n",
    "    # Fit label encoder and transform labels\n",
    "    encoded_labels = label_encoder.fit_transform(labels)\n",
    "\n",
    "    return documents, encoded_labels"
   ]
  },
  {
   "cell_type": "code",
   "execution_count": 5,
   "metadata": {},
   "outputs": [],
   "source": [
    "def preprocess_text(text):\n",
    "    # Tokenize text\n",
    "    tokens = word_tokenize(text)\n",
    "    # Lowercase\n",
    "    tokens = [token.lower() for token in tokens]\n",
    "    # Remove punctuation\n",
    "    tokens = [token for token in tokens if token not in string.punctuation]\n",
    "    # Remove stopwords\n",
    "    tokens = [token for token in tokens if token not in stop_words]\n",
    "    # Stemming\n",
    "    tokens = [porter.stem(token) for token in tokens]\n",
    "    \n",
    "    return tokens"
   ]
  },
  {
   "cell_type": "code",
   "execution_count": 6,
   "metadata": {},
   "outputs": [],
   "source": [
    "def preprocess_data(data):\n",
    "    preprocessed_data = {}\n",
    "    corpus = []\n",
    "    vocabulary_set = set()\n",
    "    \n",
    "    for class_name, class_documents in data.items():\n",
    "        class_data = {}\n",
    "        for doc_number, doc_content in class_documents.items():\n",
    "            preprocessed_text = preprocess_text(doc_content)\n",
    "            class_data[doc_number] = preprocessed_text\n",
    "            corpus.append(\" \".join(preprocessed_text))\n",
    "            vocabulary_set.update(preprocessed_text)\n",
    "        preprocessed_data[class_name] = class_data\n",
    "    \n",
    "    return preprocessed_data, corpus, vocabulary_set"
   ]
  },
  {
   "cell_type": "code",
   "execution_count": 7,
   "metadata": {},
   "outputs": [],
   "source": [
    "train_documents, train_labels = extract_documents_and_labels(train_data)\n",
    "test_documents, test_labels = extract_documents_and_labels(test_data)"
   ]
  },
  {
   "cell_type": "code",
   "execution_count": 8,
   "metadata": {},
   "outputs": [],
   "source": [
    "preprocessed_train_data, train_corpus, train_vocabulary_set = preprocess_data(train_data)\n",
    "preprocessed_test_data, test_corpus, _ = preprocess_data(test_data)  # Ignore the test_vocabulary_set"
   ]
  },
  {
   "cell_type": "code",
   "execution_count": 9,
   "metadata": {},
   "outputs": [],
   "source": [
    "# Initialize TF-IDF vectorizer with the vocabulary set obtained from the training data\n",
    "vectorizer = TfidfVectorizer(vocabulary=train_vocabulary_set)\n",
    "# Fit and transform the train and test corpora separately using the same vectorizer\n",
    "X_train = vectorizer.fit_transform(train_corpus)\n",
    "X_test = vectorizer.transform(test_corpus)"
   ]
  },
  {
   "cell_type": "code",
   "execution_count": 10,
   "metadata": {},
   "outputs": [
    {
     "name": "stdout",
     "output_type": "stream",
     "text": [
      "TF-IDF Matrix Shape_train: (11413, 39826)\n",
      "TF-IDF Matrix Shape_test: (4024, 39826)\n"
     ]
    }
   ],
   "source": [
    "print(\"TF-IDF Matrix Shape_train:\", X_train.shape)\n",
    "print(\"TF-IDF Matrix Shape_test:\", X_test.shape)"
   ]
  },
  {
   "cell_type": "code",
   "execution_count": 11,
   "metadata": {},
   "outputs": [],
   "source": [
    "def evaluate_classifier(classifier, X_train, train_labels, X_test, test_labels, classifier_name):\n",
    "    classifier.fit(X_train, train_labels)\n",
    "    y_pred = classifier.predict(X_test)\n",
    "    accuracy = accuracy_score(test_labels, y_pred)\n",
    "    f1_macro = f1_score(test_labels, y_pred, average='macro')\n",
    "    print(f\"Evaluation results for {classifier_name}:\")\n",
    "    print(f\"Accuracy: {accuracy:.4f}\")\n",
    "    print(f\"Macro-averaged F1-score: {f1_macro:.4f}\")\n",
    "    return accuracy, f1_macro"
   ]
  },
  {
   "cell_type": "code",
   "execution_count": 12,
   "metadata": {},
   "outputs": [],
   "source": [
    "def fit_classifier(classifier, X_train, train_labels):\n",
    "    classifier.fit(X_train, train_labels)"
   ]
  },
  {
   "cell_type": "code",
   "execution_count": 13,
   "metadata": {},
   "outputs": [],
   "source": [
    "def predict_labels(classifier, X_test):\n",
    "    return classifier.predict(X_test)"
   ]
  },
  {
   "cell_type": "code",
   "execution_count": 14,
   "metadata": {},
   "outputs": [],
   "source": [
    "def evaluate_score(test_labels, y_pred):\n",
    "    accuracy = accuracy_score(test_labels, y_pred)\n",
    "    f1_macro = f1_score(test_labels, y_pred, average='macro')\n",
    "    return accuracy, f1_macro"
   ]
  },
  {
   "cell_type": "code",
   "execution_count": 15,
   "metadata": {},
   "outputs": [],
   "source": [
    "def evaluate_classifier(classifier, X_train, train_labels, X_test, test_labels, classifier_name):\n",
    "    fit_classifier(classifier, X_train, train_labels)\n",
    "    y_pred = predict_labels(classifier, X_test)\n",
    "    accuracy, f1_macro = evaluate_score(test_labels, y_pred)\n",
    "    print(f\"Evaluation results for {classifier_name}:\")\n",
    "    print(f\"Accuracy: {accuracy:.4f}\")\n",
    "    print(f\"Macro-averaged F1-score: {f1_macro:.4f}\")\n",
    "    return accuracy, f1_macro"
   ]
  },
  {
   "cell_type": "code",
   "execution_count": 16,
   "metadata": {},
   "outputs": [
    {
     "name": "stdout",
     "output_type": "stream",
     "text": [
      "MultinomialNB fitting done.\n"
     ]
    }
   ],
   "source": [
    "# Fit MultinomialNB\n",
    "nb_classifier = MultinomialNB()\n",
    "fit_classifier(nb_classifier, X_train, train_labels)\n",
    "print(\"MultinomialNB fitting done.\")"
   ]
  },
  {
   "cell_type": "code",
   "execution_count": 17,
   "metadata": {},
   "outputs": [
    {
     "name": "stdout",
     "output_type": "stream",
     "text": [
      "Evaluation results for MultinomialNB:\n",
      "Accuracy: 0.4955\n",
      "Macro-averaged F1-score: 0.0322\n",
      "MultinomialNB evaluation done.\n",
      "\n"
     ]
    }
   ],
   "source": [
    "# Evaluate MultinomialNB\n",
    "y_pred_nb = predict_labels(nb_classifier, X_test)\n",
    "accuracy_nb, f1_macro_nb = evaluate_score(test_labels, y_pred_nb)\n",
    "print(f\"Evaluation results for MultinomialNB:\")\n",
    "print(f\"Accuracy: {accuracy_nb:.4f}\")\n",
    "print(f\"Macro-averaged F1-score: {f1_macro_nb:.4f}\")\n",
    "print(\"MultinomialNB evaluation done.\\n\")"
   ]
  },
  {
   "cell_type": "code",
   "execution_count": 18,
   "metadata": {},
   "outputs": [
    {
     "name": "stderr",
     "output_type": "stream",
     "text": [
      "\n",
      "KeyboardInterrupt\n",
      "\n"
     ]
    }
   ],
   "source": [
    "# Fit SVC\n",
    "svc_classifier = SVC(kernel='linear', C=1.0, probability=True)\n",
    "fit_classifier(svc_classifier, X_train, train_labels)\n",
    "print(\"SVC fitting done.\")"
   ]
  },
  {
   "cell_type": "code",
   "execution_count": null,
   "metadata": {},
   "outputs": [
    {
     "name": "stdout",
     "output_type": "stream",
     "text": [
      "\n",
      "Evaluation results for SVC:\n",
      "Accuracy: 0.7517\n",
      "Macro-averaged F1-score: 0.3237\n",
      "SVC evaluation done.\n"
     ]
    }
   ],
   "source": [
    "# Evaluate SVC\n",
    "y_pred_svc = predict_labels(svc_classifier, X_test)\n",
    "accuracy_svc, f1_macro_svc = evaluate_score(test_labels, y_pred_svc)\n",
    "print(f\"\\nEvaluation results for SVC:\")\n",
    "print(f\"Accuracy: {accuracy_svc:.4f}\")\n",
    "print(f\"Macro-averaged F1-score: {f1_macro_svc:.4f}\")\n",
    "print(\"SVC evaluation done.\")"
   ]
  },
  {
   "cell_type": "code",
   "execution_count": null,
   "metadata": {},
   "outputs": [
    {
     "name": "stdout",
     "output_type": "stream",
     "text": [
      "Logistic Regression fitting done.\n"
     ]
    },
    {
     "name": "stderr",
     "output_type": "stream",
     "text": [
      "c:\\Users\\hp\\AppData\\Local\\Programs\\Python\\Python311\\Lib\\site-packages\\sklearn\\linear_model\\_logistic.py:460: ConvergenceWarning: lbfgs failed to converge (status=1):\n",
      "STOP: TOTAL NO. of ITERATIONS REACHED LIMIT.\n",
      "\n",
      "Increase the number of iterations (max_iter) or scale the data as shown in:\n",
      "    https://scikit-learn.org/stable/modules/preprocessing.html\n",
      "Please also refer to the documentation for alternative solver options:\n",
      "    https://scikit-learn.org/stable/modules/linear_model.html#logistic-regression\n",
      "  n_iter_i = _check_optimize_result(\n"
     ]
    }
   ],
   "source": [
    "# Fit Logistic Regression\n",
    "logistic_classifier = LogisticRegression()\n",
    "fit_classifier(logistic_classifier, X_train, train_labels)\n",
    "print(\"Logistic Regression fitting done.\")"
   ]
  },
  {
   "cell_type": "code",
   "execution_count": null,
   "metadata": {},
   "outputs": [
    {
     "name": "stdout",
     "output_type": "stream",
     "text": [
      "Evaluation results for Logistic Regression:\n",
      "Accuracy: 0.7162\n",
      "Macro-averaged F1-score: 0.2244\n",
      "Logistic Regression evaluation done.\n"
     ]
    }
   ],
   "source": [
    "# Evaluate Logistic Regression\n",
    "y_pred_logistic = predict_labels(logistic_classifier, X_test)\n",
    "accuracy_logistic, f1_macro_logistic = evaluate_score(test_labels, y_pred_logistic)\n",
    "print(f\"Evaluation results for Logistic Regression:\")\n",
    "print(f\"Accuracy: {accuracy_logistic:.4f}\")\n",
    "print(f\"Macro-averaged F1-score: {f1_macro_logistic:.4f}\")\n",
    "print(\"Logistic Regression evaluation done.\")"
   ]
  },
  {
   "cell_type": "code",
   "execution_count": null,
   "metadata": {},
   "outputs": [],
   "source": [
    "def plot_scores(accuracies, f1_macros, models):\n",
    "    # Plotting accuracies\n",
    "    plt.figure(figsize=(10, 5))\n",
    "    plt.bar(models, accuracies, color='skyblue')\n",
    "    plt.title('Model Accuracies')\n",
    "    plt.xlabel('Models')\n",
    "    plt.ylabel('Accuracy')\n",
    "    plt.ylim(0, 1)  # Setting y-axis limit to 0-1\n",
    "    plt.xticks(rotation=45)  # Rotating x-axis labels for better readability\n",
    "    plt.show()\n",
    "\n",
    "    # Plotting F1 macro scores\n",
    "    plt.figure(figsize=(10, 5))\n",
    "    plt.bar(models, f1_macros, color='lightgreen')\n",
    "    plt.title('Model F1 Macro Scores')\n",
    "    plt.xlabel('Models')\n",
    "    plt.ylabel('F1 Macro Score')\n",
    "    plt.ylim(0, 1)  # Setting y-axis limit to 0-1\n",
    "    plt.xticks(rotation=45)  # Rotating x-axis labels for better readability\n",
    "    plt.show()"
   ]
  },
  {
   "cell_type": "code",
   "execution_count": null,
   "metadata": {},
   "outputs": [
    {
     "data": {
      "image/png": "[encoded data removed]",
      "text/plain": [
       "<Figure size 1000x500 with 1 Axes>"
      ]
     },
     "metadata": {},
     "output_type": "display_data"
    },
    {
     "data": {
      "image/png": "[encoded data removed]",
      "text/plain": [
       "<Figure size 1000x500 with 1 Axes>"
      ]
     },
     "metadata": {},
     "output_type": "display_data"
    }
   ],
   "source": [
    "accuracies = [accuracy_nb, accuracy_svc, accuracy_logistic]\n",
    "f1_macros = [f1_macro_nb, f1_macro_svc, f1_macro_logistic]\n",
    "models = ['MultinomialNB', 'SVC', 'Logistic Regression']\n",
    "\n",
    "plot_scores(accuracies, f1_macros, models)"
   ]
  },
  {
   "cell_type": "code",
   "execution_count": null,
   "metadata": {},
   "outputs": [],
   "source": [
    "# Save the preprocessed data as a JSON file\n",
    "with open(\"preprocessed_train_data.json\", 'w') as json_file:\n",
    "    json.dump(preprocessed_train_data, json_file, indent=4)\n",
    "    # Save the preprocessed data as a JSON file\n",
    "with open(\"preprocessed_test_data.json\", 'w') as json_file:\n",
    "    json.dump(preprocessed_test_data, json_file, indent=4)"
   ]
  },
  {
   "cell_type": "code",
   "execution_count": null,
   "metadata": {},
   "outputs": [],
   "source": []
  },
  {
   "cell_type": "code",
   "execution_count": null,
   "metadata": {},
   "outputs": [],
   "source": []
  },
  {
   "cell_type": "code",
   "execution_count": null,
   "metadata": {},
   "outputs": [],
   "source": []
  }
 ],
 "metadata": {
  "kernelspec": {
   "display_name": "Python 3",
   "language": "python",
   "name": "python3"
  },
  "language_info": {
   "codemirror_mode": {
    "name": "ipython",
    "version": 3
   },
   "file_extension": ".py",
   "mimetype": "text/x-python",
   "name": "python",
   "nbconvert_exporter": "python",
   "pygments_lexer": "ipython3",
   "version": "3.11.5"
  }
 },
 "nbformat": 4,
 "nbformat_minor": 2
}
