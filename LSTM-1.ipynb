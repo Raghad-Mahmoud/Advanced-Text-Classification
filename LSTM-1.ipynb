{
 "cells": [
  {
   "cell_type": "code",
   "execution_count": 26,
   "metadata": {},
   "outputs": [],
   "source": [
    "import json\n",
    "import numpy as np\n",
    "from tensorflow.keras.preprocessing.text import Tokenizer\n",
    "from tensorflow.keras.preprocessing.sequence import pad_sequences\n",
    "from sklearn.preprocessing import LabelEncoder\n",
    "from tensorflow.keras.models import Sequential\n",
    "from keras.layers import LSTM, Embedding, Dense\n",
    "import os"
   ]
  },
  {
   "cell_type": "code",
   "execution_count": 27,
   "metadata": {},
   "outputs": [],
   "source": [
    "folder_path = r\"C:\\Users\\hp\\OneDrive\\Desktop\\NLP_3\\data\"\n",
    "\n",
    "# Construct the file paths\n",
    "train_file_path = os.path.join(folder_path, \"train_data.json\")\n",
    "test_file_path = os.path.join(folder_path, \"test_data.json\")\n",
    "\n",
    "# Read the training data\n",
    "with open(train_file_path, 'r', encoding='utf-8') as train_file:\n",
    "    train_data = json.load(train_file)\n",
    "\n",
    "# Read the test data\n",
    "with open(test_file_path, 'r', encoding='utf-8') as test_file:\n",
    "    test_data = json.load(test_file)"
   ]
  },
  {
   "cell_type": "code",
   "execution_count": 28,
   "metadata": {},
   "outputs": [],
   "source": [
    "def preprocess_data(data):\n",
    "    texts = []\n",
    "    labels = []\n",
    "    \n",
    "    for class_name, class_docs in data.items():\n",
    "        for doc_name, doc_content in class_docs.items():\n",
    "            texts.append(doc_content)\n",
    "            labels.append(class_name)\n",
    "    \n",
    "    return texts, labels\n",
    "\n",
    "# Preprocess train and test data\n",
    "train_texts, train_labels = preprocess_data(train_data)\n",
    "test_texts, test_labels = preprocess_data(test_data)\n"
   ]
  },
  {
   "cell_type": "code",
   "execution_count": 29,
   "metadata": {},
   "outputs": [],
   "source": [
    "# Tokenization and Padding for training data\n",
    "tokenizer = Tokenizer()\n",
    "tokenizer.fit_on_texts(train_texts)\n",
    "\n",
    "sequences = tokenizer.texts_to_sequences(train_texts)\n",
    "max_sequence_length = max(len(seq) for seq in sequences)  # Maximum sequence length\n",
    "sequences_padded = pad_sequences(sequences, maxlen=max_sequence_length)\n",
    "\n",
    "# Label Encoding for training data\n",
    "label_encoder = LabelEncoder()\n",
    "encoded_labels = label_encoder.fit_transform(train_labels)\n",
    "num_classes = len(label_encoder.classes_)\n"
   ]
  },
  {
   "cell_type": "code",
   "execution_count": 30,
   "metadata": {},
   "outputs": [],
   "source": [
    "# Tokenization and Padding for test data\n",
    "test_sequences = tokenizer.texts_to_sequences(test_texts)  # Use tokenizer from training data\n",
    "test_sequences_padded = pad_sequences(test_sequences, maxlen=max_sequence_length)\n",
    "\n",
    "# Label Encoding for test data\n",
    "encoded_test_labels = label_encoder.transform(test_labels)"
   ]
  },
  {
   "cell_type": "code",
   "execution_count": 34,
   "metadata": {},
   "outputs": [
    {
     "name": "stdout",
     "output_type": "stream",
     "text": [
      "Epoch 1/10\n",
      "\u001b[1m321/321\u001b[0m \u001b[32m━━━━━━━━━━━━━━━━━━━━\u001b[0m\u001b[37m\u001b[0m \u001b[1m308s\u001b[0m 949ms/step - accuracy: 0.3008 - loss: 3.0473 - val_accuracy: 0.2688 - val_loss: 4.3249\n",
      "Epoch 2/10\n",
      "\u001b[1m321/321\u001b[0m \u001b[32m━━━━━━━━━━━━━━━━━━━━\u001b[0m\u001b[37m\u001b[0m \u001b[1m297s\u001b[0m 927ms/step - accuracy: 0.4195 - loss: 2.2945 - val_accuracy: 0.1760 - val_loss: 4.0823\n",
      "Epoch 3/10\n",
      "\u001b[1m321/321\u001b[0m \u001b[32m━━━━━━━━━━━━━━━━━━━━\u001b[0m\u001b[37m\u001b[0m \u001b[1m303s\u001b[0m 946ms/step - accuracy: 0.5233 - loss: 1.8469 - val_accuracy: 0.2268 - val_loss: 4.6101\n",
      "Epoch 4/10\n",
      "\u001b[1m321/321\u001b[0m \u001b[32m━━━━━━━━━━━━━━━━━━━━\u001b[0m\u001b[37m\u001b[0m \u001b[1m341s\u001b[0m 1s/step - accuracy: 0.5866 - loss: 1.5829 - val_accuracy: 0.3730 - val_loss: 4.3519\n",
      "Epoch 5/10\n",
      "\u001b[1m321/321\u001b[0m \u001b[32m━━━━━━━━━━━━━━━━━━━━\u001b[0m\u001b[37m\u001b[0m \u001b[1m407s\u001b[0m 1s/step - accuracy: 0.6301 - loss: 1.3920 - val_accuracy: 0.4834 - val_loss: 4.3114\n",
      "Epoch 6/10\n",
      "\u001b[1m321/321\u001b[0m \u001b[32m━━━━━━━━━━━━━━━━━━━━\u001b[0m\u001b[37m\u001b[0m \u001b[1m357s\u001b[0m 1s/step - accuracy: 0.6746 - loss: 1.1878 - val_accuracy: 0.4790 - val_loss: 4.5137\n",
      "Epoch 7/10\n",
      "\u001b[1m321/321\u001b[0m \u001b[32m━━━━━━━━━━━━━━━━━━━━\u001b[0m\u001b[37m\u001b[0m \u001b[1m337s\u001b[0m 1s/step - accuracy: 0.6964 - loss: 1.0716 - val_accuracy: 0.4562 - val_loss: 4.7754\n",
      "Epoch 8/10\n",
      "\u001b[1m321/321\u001b[0m \u001b[32m━━━━━━━━━━━━━━━━━━━━\u001b[0m\u001b[37m\u001b[0m \u001b[1m343s\u001b[0m 1s/step - accuracy: 0.7212 - loss: 0.9750 - val_accuracy: 0.4273 - val_loss: 5.2648\n",
      "Epoch 9/10\n",
      "\u001b[1m321/321\u001b[0m \u001b[32m━━━━━━━━━━━━━━━━━━━━\u001b[0m\u001b[37m\u001b[0m \u001b[1m342s\u001b[0m 1s/step - accuracy: 0.7492 - loss: 0.8641 - val_accuracy: 0.4930 - val_loss: 5.1726\n",
      "Epoch 10/10\n",
      "\u001b[1m321/321\u001b[0m \u001b[32m━━━━━━━━━━━━━━━━━━━━\u001b[0m\u001b[37m\u001b[0m \u001b[1m344s\u001b[0m 1s/step - accuracy: 0.7641 - loss: 0.7998 - val_accuracy: 0.4877 - val_loss: 5.0664\n"
     ]
    },
    {
     "data": {
      "text/plain": [
       "<keras.src.callbacks.history.History at 0x22036c1dc90>"
      ]
     },
     "execution_count": 34,
     "metadata": {},
     "output_type": "execute_result"
    }
   ],
   "source": [
    "# Model Architecture\n",
    "embedding_dim = 100\n",
    "model = Sequential()\n",
    "model.add(Embedding(input_dim=len(tokenizer.word_index) + 1, output_dim=embedding_dim))\n",
    "model.add(LSTM(units=128, dropout=0.2, recurrent_dropout=0.2))\n",
    "model.add(Dense(num_classes, activation='softmax'))\n",
    "\n",
    "model.compile(optimizer='adam', loss='sparse_categorical_crossentropy', metrics=['accuracy'])\n",
    "\n",
    "# Training\n",
    "model.fit(sequences_padded, encoded_labels, batch_size=32, epochs=10, validation_split=0.1)"
   ]
  },
  {
   "cell_type": "code",
   "execution_count": 35,
   "metadata": {},
   "outputs": [
    {
     "name": "stdout",
     "output_type": "stream",
     "text": [
      "\u001b[1m126/126\u001b[0m \u001b[32m━━━━━━━━━━━━━━━━━━━━\u001b[0m\u001b[37m\u001b[0m \u001b[1m64s\u001b[0m 504ms/step\n",
      "Accuracy: 0.6486083499005965\n",
      "Macro-averaged F1-score: 0.099881785919363\n"
     ]
    }
   ],
   "source": [
    "from sklearn.metrics import accuracy_score, f1_score\n",
    "\n",
    "# Predictions on test data\n",
    "predictions = model.predict(test_sequences_padded)\n",
    "predicted_labels = np.argmax(predictions, axis=1)\n",
    "\n",
    "# Calculate accuracy\n",
    "accuracy = accuracy_score(encoded_test_labels, predicted_labels)\n",
    "print(f'Accuracy: {accuracy}')\n",
    "\n",
    "# Calculate macro-averaged F1-score\n",
    "f1 = f1_score(encoded_test_labels, predicted_labels, average='macro')\n",
    "print(f'Macro-averaged F1-score: {f1}')\n"
   ]
  },
  {
   "cell_type": "code",
   "execution_count": null,
   "metadata": {},
   "outputs": [],
   "source": []
  },
  {
   "cell_type": "code",
   "execution_count": null,
   "metadata": {},
   "outputs": [],
   "source": []
  },
  {
   "cell_type": "code",
   "execution_count": null,
   "metadata": {},
   "outputs": [],
   "source": []
  },
  {
   "cell_type": "code",
   "execution_count": null,
   "metadata": {},
   "outputs": [],
   "source": []
  },
  {
   "cell_type": "code",
   "execution_count": null,
   "metadata": {},
   "outputs": [],
   "source": []
  },
  {
   "cell_type": "code",
   "execution_count": null,
   "metadata": {},
   "outputs": [],
   "source": []
  },
  {
   "cell_type": "code",
   "execution_count": null,
   "metadata": {},
   "outputs": [],
   "source": []
  }
 ],
 "metadata": {
  "kernelspec": {
   "display_name": "Python 3",
   "language": "python",
   "name": "python3"
  },
  "language_info": {
   "codemirror_mode": {
    "name": "ipython",
    "version": 3
   },
   "file_extension": ".py",
   "mimetype": "text/x-python",
   "name": "python",
   "nbconvert_exporter": "python",
   "pygments_lexer": "ipython3",
   "version": "3.11.5"
  }
 },
 "nbformat": 4,
 "nbformat_minor": 2
}
